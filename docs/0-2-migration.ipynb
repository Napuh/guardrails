{
 "cells": [
  {
   "cell_type": "markdown",
   "metadata": {},
   "source": [
    "# Migrating to 0.2.0\n",
    "\n",
    "The 0.2.0 release contains a handful of breaking changes compared to the previous 0.1.x releases.  This guide will list out these changes as well as how to migrate to the new features that encompass them in 0.2.x.\n",
    "\n",
    "## Pydantic Support\n",
    "\n",
    "### Using Pydantic Models With Guardrails\n",
    "\n",
    "#### Applying Guardrails Validations Fields In A Pydantic Model\n",
    "\n",
    "## Polymorphism With Discriminators In Output Schemas\n",
    "\n",
    "## Changes To Validators (Note for Raf: This section title should be more specific)\n",
    "\n",
    "## Removal Of Script Support\n",
    "\n",
    "## String Formatting In Prompts"
   ]
  }
 ],
 "metadata": {
  "language_info": {
   "name": "python"
  },
  "orig_nbformat": 4
 },
 "nbformat": 4,
 "nbformat_minor": 2
}
