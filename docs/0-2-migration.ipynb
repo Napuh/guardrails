{
 "cells": [
  {
   "cell_type": "markdown",
   "metadata": {},
   "source": [
    "# Migrating to 0.2.0\n",
    "\n",
    "The 0.2.0 release contains a handful of breaking changes compared to the previous 0.1.x releases.  This guide will list out these changes as well as how to migrate to the new features that encompass them in 0.2.x.\n",
    "\n",
    "## Pydantic Support\n",
    "\n",
    "### Using Pydantic Models With Guardrails\n",
    "\n",
    "#### Applying Guardrails Validations Fields In A Pydantic Model\n",
    "\n",
    "## Polymorphism With Discriminators In Output Schemas\n",
    "\n",
    "## Changes To Validators (Note for Raf: This section title should be more specific)"
   ]
  },
  {
   "cell_type": "markdown",
   "metadata": {},
   "source": [
    "## Removal Of Script Support"
   ]
  },
  {
   "cell_type": "markdown",
   "metadata": {},
   "source": [
    "## String Formatting In Prompts\n",
    "Previously Guardrails used `f-string`'s and `str.format` to include prompt variables, prompt primitives, and other partials in the prompt sent to the LLM.  This necessitated any braces, aka curly brackets, to be escaped with additional braces to prevent its contents from being considered as variable that should be substituted during string formatting.\n",
    "\n",
    "We now use `Template.safe_substitute` to avoid this issue completely.  This does, however, require a change to how variables are expressed in string arguments such as prompts and instructions.  Now instead of expressing a variable for the prompt as `{{my_var}}`, it should be expressed as `${my_var}`.\n",
    "\n",
    "In addition to this change in variable syntax, we have also started namespacing our prompt primitives.  Whereas before you would use one of our built in primitives like so: `@complete_json_suffix_v2`, they should now be specified as `${gr.complete_json_suffix_v2}`.\n",
    "\n",
    "To highlight these changes in practice, below is the prompt section of a RAIL spec where each tab shows the respective before and after format.\n",
    "\n",
    "=== \"0.1.x\"\n",
    "\n",
    "```xml\n",
    "<prompt>\n",
    "Given the following document, answer the following questions. If the answer doesn't exist in the document, enter 'None'.\n",
    "\n",
    "{document}\n",
    "\n",
    "@xml_prefix_prompt\n",
    "\n",
    "{{output_schema}}\n",
    "\n",
    "\n",
    "@json_suffix_prompt\n",
    "</prompt>\n",
    "```\n",
    "\n",
    "=== \"0.2.x\n",
    "```xml\n",
    "<prompt>\n",
    "Given the following document, answer the following questions. If the answer doesn't exist in the document, enter 'None'.\n",
    "\n",
    "${document}\n",
    "\n",
    "${gr.xml_prefix_prompt}\n",
    "\n",
    "${output_schema}\n",
    "\n",
    "${gr.json_suffix_prompt}\n",
    "</prompt>\n",
    "```"
   ]
  }
 ],
 "metadata": {
  "language_info": {
   "name": "python"
  },
  "orig_nbformat": 4
 },
 "nbformat": 4,
 "nbformat_minor": 2
}
