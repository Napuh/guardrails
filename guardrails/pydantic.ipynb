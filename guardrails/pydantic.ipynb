{
 "cells": [
  {
   "cell_type": "code",
   "execution_count": 56,
   "metadata": {},
   "outputs": [],
   "source": [
    "from typing import List, get_origin\n",
    "from guardrails.validators import LowerCase, OneLine, TwoWords\n",
    "\n",
    "from lxml.builder import E\n",
    "from lxml.etree import Element, tostring"
   ]
  },
  {
   "cell_type": "code",
   "execution_count": 55,
   "metadata": {},
   "outputs": [],
   "source": [
    "from collections import defaultdict\n",
    "from datetime import date, time\n",
    "import logging\n",
    "from typing import TYPE_CHECKING, Any, Dict, Optional, Type, Union, get_args, get_origin\n",
    "\n",
    "from lxml.etree import Element\n",
    "from lxml.builder import E\n",
    "\n",
    "from griffe.dataclasses import Docstring\n",
    "from griffe.docstrings.parsers import Parser, parse\n",
    "import pydantic\n",
    "\n",
    "from pydantic import BaseModel, Field, create_model\n",
    "from pydantic.fields import ModelField\n",
    "\n",
    "from guardrails.utils.pydantic_utils import add_validator"
   ]
  },
  {
   "cell_type": "code",
   "execution_count": 2,
   "metadata": {},
   "outputs": [
    {
     "ename": "NameError",
     "evalue": "name 'GuardModel' is not defined",
     "output_type": "error",
     "traceback": [
      "\u001b[0;31m---------------------------------------------------------------------------\u001b[0m",
      "\u001b[0;31mNameError\u001b[0m                                 Traceback (most recent call last)",
      "Cell \u001b[0;32mIn[2], line 4\u001b[0m\n\u001b[1;32m      1\u001b[0m \u001b[39mfrom\u001b[39;00m \u001b[39mtyping\u001b[39;00m \u001b[39mimport\u001b[39;00m Dict, get_args, get_type_hints\n\u001b[0;32m----> 4\u001b[0m \u001b[39mclass\u001b[39;00m \u001b[39mFeeDetailsReask\u001b[39;00m(GuardModel):\n\u001b[1;32m      5\u001b[0m     index: \u001b[39mint\u001b[39m \u001b[39m=\u001b[39m Field(gd_validators\u001b[39m=\u001b[39m\u001b[39m\"\u001b[39m\u001b[39m1-indexed\u001b[39m\u001b[39m\"\u001b[39m)\n\u001b[1;32m      6\u001b[0m     name: \u001b[39mstr\u001b[39m \u001b[39m=\u001b[39m Field(gd_validators\u001b[39m=\u001b[39m[LowerCase(on_fail\u001b[39m=\u001b[39m\u001b[39m\"\u001b[39m\u001b[39mreask\u001b[39m\u001b[39m\"\u001b[39m), TwoWords()])\n",
      "\u001b[0;31mNameError\u001b[0m: name 'GuardModel' is not defined"
     ]
    }
   ],
   "source": [
    "from typing import Dict, get_args, get_type_hints\n",
    "\n",
    "\n",
    "class FeeDetailsReask(BaseModel):\n",
    "    index: int = Field(gd_validators=\"1-indexed\")\n",
    "    name: str = Field(gd_validators=[LowerCase(on_fail=\"reask\"), TwoWords()])\n",
    "    explanation: str = Field(gd_validators=OneLine(on_fail=\"reask\"))\n",
    "    value: float = Field(gd_validators=\"percentage\")\n",
    "\n",
    "\n",
    "class ContractDetailsReask(BaseModel):\n",
    "    # fees: List[FeeDetailsReask] = Field(\n",
    "    #     description=\"What fees and charges are associated with my account?\"\n",
    "    # )\n",
    "    interest_rates: List[str] = Field(\n",
    "        description=\"What are the interest rates offered by the bank on savings and checking accounts, loans, and credit products?\"\n",
    "    )"
   ]
  },
  {
   "cell_type": "code",
   "execution_count": 4,
   "metadata": {},
   "outputs": [],
   "source": [
    "# from datetime import date, time\n",
    "# from typing import Type, Union\n",
    "\n",
    "# from pydantic import BaseModel, HttpUrl\n",
    "# import pydantic\n",
    "\n",
    "\n",
    "# def is_pydantic_base_model(type_annotation: Type) -> bool:\n",
    "#     \"\"\"Check if a type_annotation is a Pydantic BaseModel.\"\"\"\n",
    "#     try:\n",
    "#         if issubclass(type_annotation, BaseModel):\n",
    "#             return True\n",
    "#     except TypeError:\n",
    "#         False\n",
    "#     return False\n",
    "\n",
    "\n",
    "# def get_model_field_annotation(type_annotation: Union[Type, pydantic.fields.ModelField]) -> Type:\n",
    "#     \"\"\"Get the type annotation from a ModelField.\"\"\"\n",
    "\n",
    "#     if isinstance(type_annotation, pydantic.fields.ModelField):\n",
    "#         type_annotation = type_annotation.annotation\n",
    "\n",
    "#     return type_annotation\n",
    "\n",
    "\n",
    "# def is_list(type_annotation: Type) -> bool:\n",
    "#     \"\"\"Check if a type_annotation is a list.\"\"\"\n",
    "\n",
    "#     type_annotation = get_model_field_annotation(type_annotation)\n",
    "\n",
    "#     if is_pydantic_base_model(type_annotation):\n",
    "#         return False\n",
    "#     if get_origin(type_annotation) == list:\n",
    "#         return True\n",
    "#     elif type_annotation == list:\n",
    "#         return True\n",
    "#     return False\n",
    "\n",
    "\n",
    "# def is_dict(type_annotation: Type) -> bool:\n",
    "#     \"\"\"Check if a type_annotation is a dict.\"\"\"\n",
    "\n",
    "#     type_annotation = get_model_field_annotation(type_annotation)\n",
    "\n",
    "#     if is_pydantic_base_model(type_annotation):\n",
    "#         return True\n",
    "#     if get_origin(type_annotation) == dict:\n",
    "#         return True\n",
    "#     elif type_annotation == dict:\n",
    "#         return True\n",
    "#     return False\n",
    "\n",
    "\n",
    "# def map_field_info_to_field_type(field_info: Union[pydantic.fields.ModelField, Type]):\n",
    "#     # Get the type annotation from the field_info\n",
    "#     if isinstance(field_info, pydantic.fields.ModelField):\n",
    "#         type_annotation = field_info.annotation\n",
    "#     elif type(field_info) == type:\n",
    "#         type_annotation = field_info\n",
    "#     elif get_origin(field_info) is not None:\n",
    "#         type_annotation = get_origin(field_info)\n",
    "#     else:\n",
    "#         raise ValueError(f\"Unsupported type: {field_info}\")\n",
    "\n",
    "#     # Map the type annotation to the corresponding field type\n",
    "#     if is_list(type_annotation):\n",
    "#         return \"list\"\n",
    "#     elif is_dict(type_annotation):\n",
    "#         return \"object\"\n",
    "#     elif type_annotation == bool:\n",
    "#         return \"bool\"\n",
    "#     elif type_annotation == date:\n",
    "#         return \"date\"\n",
    "#     elif type_annotation == float:\n",
    "#         return \"float\"\n",
    "#     elif type_annotation == int:\n",
    "#         return \"integer\"\n",
    "#     elif type_annotation == str:\n",
    "#         return \"string\"\n",
    "#     elif type_annotation == time:\n",
    "#         return \"time\"\n",
    "#     elif type_annotation == HttpUrl:\n",
    "#         return \"url\"\n",
    "#     else:\n",
    "#         raise ValueError(f\"Unsupported type: {type_annotation}\")"
   ]
  },
  {
   "cell_type": "code",
   "execution_count": 5,
   "metadata": {},
   "outputs": [],
   "source": [
    "# from typing import Optional\n",
    "# from lxml.etree import Element, tostring\n",
    "\n",
    "\n",
    "# def create_xml_element_for_field(\n",
    "#     field_info: Union[pydantic.fields.ModelField, Type, type],\n",
    "#     field_name: Optional[str] = None,\n",
    "# ) -> Element:\n",
    "#     \"\"\"Create an XML element corresponding to a field.\n",
    "\n",
    "#     Args:\n",
    "#         field_info: Field's type. This could be a Pydantic ModelField or a type.\n",
    "#         field_name: Field's name. For some fields (e.g. list), this is not required.\n",
    "\n",
    "#     Returns:\n",
    "#         The XML element corresponding to the field.\n",
    "#     \"\"\"\n",
    "#     field_type = map_field_info_to_field_type(field_info)\n",
    "\n",
    "#     element = E(field_type)\n",
    "#     if field_name:\n",
    "#         element.set(\"name\", field_name)\n",
    "\n",
    "#     # Extract validators from the Pydantic field.\n",
    "#     # Add format and on-fail attributes\n",
    "#     if (\n",
    "#         isinstance(field_info, pydantic.fields.ModelField)\n",
    "#         and hasattr(field_info.field_info, \"gd_validators\")\n",
    "#         and field_info.field_info.gd_validators is not None\n",
    "#     ):\n",
    "#         format_prompt = []\n",
    "#         on_fails = {}\n",
    "#         for validator in field_info.field_info.gd_validators:\n",
    "#             validator_prompt = validator\n",
    "#             if not isinstance(validator, str):\n",
    "#                 # `validator`` is of type gd.Validator, use the to_xml_attrib method\n",
    "#                 validator_prompt = validator.to_xml_attrib()\n",
    "#                 # Set the on-fail attribute based on the on_fail value\n",
    "#                 on_fail = validator.on_fail.__name__ if validator.on_fail else \"noop\"\n",
    "#                 on_fails[validator.rail_alias] = on_fail\n",
    "#             format_prompt.append(validator_prompt)\n",
    "\n",
    "#         if len(format_prompt) > 0:\n",
    "#             format_prompt = \"; \".join(format_prompt)\n",
    "#             element.set(\"format\", format_prompt)\n",
    "#             for rail_alias, on_fail in on_fails.items():\n",
    "#                 element.set(\"on-fail-\" + rail_alias, on_fail)\n",
    "\n",
    "#     # Add description attribute\n",
    "#     if (\n",
    "#         isinstance(field_info, pydantic.fields.ModelField)\n",
    "#         and field_info.field_info.description is not None\n",
    "#     ):\n",
    "#         element.set(\"description\", field_info.field_info.description)\n",
    "\n",
    "#     # Handle nested types\n",
    "#     if field_type in [\"list\", \"object\"]:\n",
    "#         type_annotation = get_model_field_annotation(field_info)\n",
    "#         # Check for all the ways a list can be defined\n",
    "#         if is_list(type_annotation):\n",
    "#             inner_type = get_args(type_annotation)\n",
    "#             if len(inner_type) > 0:\n",
    "#                 inner_type = inner_type[0]\n",
    "#                 if is_pydantic_base_model(inner_type):\n",
    "#                     object_element = E(\"object\")\n",
    "#                     for inner_field_name, inner_field_info in inner_type.__fields__.items():\n",
    "#                         inner_element = create_xml_element_for_field(\n",
    "#                             inner_field_info, inner_field_name\n",
    "#                         )\n",
    "#                         object_element.append(inner_element)\n",
    "#                     element.append(object_element)\n",
    "#                 else:\n",
    "#                     inner_element = create_xml_element_for_field(inner_type)\n",
    "#                     element.append(inner_element)\n",
    "#         elif is_dict(type_annotation):\n",
    "#             if is_pydantic_base_model(type_annotation):\n",
    "#                 for inner_field_name, inner_field_info in type_annotation.__fields__.items():\n",
    "#                     inner_element = create_xml_element_for_field(\n",
    "#                         inner_field_info, inner_field_name\n",
    "#                     )\n",
    "#                     element.append(inner_element)\n",
    "#             else:\n",
    "#                 dict_args = get_args(type_annotation)\n",
    "#                 if len(dict_args) == 2:\n",
    "#                     key_type, val_type = get_args(type_annotation)\n",
    "#                     assert key_type == str, \"Only string keys are supported for dicts\"\n",
    "#                     inner_element = create_xml_element_for_field(val_type)\n",
    "#                     element.append(inner_element)\n",
    "#         else:\n",
    "#             raise ValueError(f\"Unsupported type: {type_annotation}\")\n",
    "\n",
    "#     return element"
   ]
  },
  {
   "cell_type": "code",
   "execution_count": 6,
   "metadata": {},
   "outputs": [],
   "source": [
    "# outermost_element = E(\"output\")\n",
    "\n",
    "# for field_name, field_info in ContractDetailsReask.__fields__.items():\n",
    "#     element = create_xml_element_for_field(field_info, field_name)\n",
    "#     outermost_element.append(element)"
   ]
  },
  {
   "cell_type": "code",
   "execution_count": 28,
   "metadata": {},
   "outputs": [
    {
     "name": "stdout",
     "output_type": "stream",
     "text": [
      "<output>\n",
      "  <list name=\"fees\" description=\"What fees and charges are associated with my account?\">\n",
      "    <object>\n",
      "      <integer name=\"index\" format=\"1-indexed\"/>\n",
      "      <string name=\"name\" format=\"two-words; lower-case\" on-fail-two-words=\"noop\" on-fail-lower-case=\"reask\"/>\n",
      "      <string name=\"explanation\" format=\"one-line\" on-fail-one-line=\"reask\"/>\n",
      "      <float name=\"value\" format=\"percentage\"/>\n",
      "    </object>\n",
      "  </list>\n",
      "  <list name=\"interest_rates\" description=\"What are the interest rates offered by the bank on savings and checking accounts, loans, and credit products?\">\n",
      "    <string/>\n",
      "  </list>\n",
      "  <object name=\"dummy_other_thing\" description=\"What fees and charges are associated with my account?\">\n",
      "    <integer name=\"index\" format=\"1-indexed\"/>\n",
      "    <string name=\"name\" format=\"two-words; lower-case\" on-fail-two-words=\"noop\" on-fail-lower-case=\"reask\"/>\n",
      "    <string name=\"explanation\" format=\"one-line\" on-fail-one-line=\"reask\"/>\n",
      "    <float name=\"value\" format=\"percentage\"/>\n",
      "  </object>\n",
      "  <object name=\"dummy_other_thing_2\"/>\n",
      "  <object name=\"dummy_other_thing_3\">\n",
      "    <string/>\n",
      "  </object>\n",
      "  <object name=\"dummy_other_thing_4\">\n",
      "    <list/>\n",
      "  </object>\n",
      "  <list name=\"dummy_other_thing_5\"/>\n",
      "</output>\n",
      "\n"
     ]
    }
   ],
   "source": [
    "# print(tostring(\n",
    "#     outermost_element,\n",
    "#     encoding=\"unicode\",\n",
    "#     method=\"xml\",\n",
    "#     pretty_print=True,\n",
    "# ))"
   ]
  },
  {
   "cell_type": "code",
   "execution_count": 42,
   "metadata": {},
   "outputs": [],
   "source": [
    "def is_pydantic_base_model(type_annotation: Any) -> bool:\n",
    "    \"\"\"Check if a type_annotation is a Pydantic BaseModel.\"\"\"\n",
    "    try:\n",
    "        if issubclass(type_annotation, BaseModel):\n",
    "            return True\n",
    "    except TypeError:\n",
    "        False\n",
    "    return False\n",
    "\n",
    "\n",
    "def is_list(type_annotation: Any) -> bool:\n",
    "    \"\"\"Check if a type_annotation is a list.\"\"\"\n",
    "\n",
    "    type_annotation = prepare_type_annotation(type_annotation)\n",
    "\n",
    "    if is_pydantic_base_model(type_annotation):\n",
    "        return False\n",
    "    if get_origin(type_annotation) == list:\n",
    "        return True\n",
    "    elif type_annotation == list:\n",
    "        return True\n",
    "    return False\n",
    "\n",
    "\n",
    "def is_dict(type_annotation: Any) -> bool:\n",
    "    \"\"\"Check if a type_annotation is a dict.\"\"\"\n",
    "\n",
    "    type_annotation = prepare_type_annotation(type_annotation)\n",
    "\n",
    "    if is_pydantic_base_model(type_annotation):\n",
    "        return True\n",
    "    if get_origin(type_annotation) == dict:\n",
    "        return True\n",
    "    elif type_annotation == dict:\n",
    "        return True\n",
    "    return False\n",
    "\n",
    "\n",
    "def prepare_type_annotation(type_annotation: Any) -> Type:\n",
    "    \"\"\"Get the raw type annotation that can be used for downstream processing.\n",
    "\n",
    "    This function does the following:\n",
    "        1. If the type_annotation is a Pydantic field, get the annotation\n",
    "        2. If the type_annotation is a Union, get the first non-None type\n",
    "\n",
    "    Args:\n",
    "        type_annotation (Any): The type annotation to prepare\n",
    "\n",
    "    Returns:\n",
    "        Type: The prepared type annotation\n",
    "    \"\"\"\n",
    "\n",
    "    if isinstance(type_annotation, ModelField):\n",
    "        type_annotation = type_annotation.annotation\n",
    "\n",
    "    # Strip a Union type annotation to the first non-None type\n",
    "    if get_origin(type_annotation) == Union:\n",
    "        type_annotation = [t for t in get_args(type_annotation) if t != type(None)]\n",
    "        assert (\n",
    "            len(type_annotation) == 1\n",
    "        ), \"Union type must have exactly one non-None type\"\n",
    "        type_annotation = type_annotation[0]\n",
    "\n",
    "    return type_annotation\n",
    "\n",
    "\n",
    "def type_annotation_to_string(type_annotation: Any) -> str:\n",
    "    \"\"\"Map a type_annotation to the name of the corresponding field type.\n",
    "\n",
    "    This function checks if the type_annotation is a list, dict, or a primitive type,\n",
    "    and returns the corresponding type name, e.g. \"list\", \"object\", \"bool\", \"date\", etc.\n",
    "    \"\"\"\n",
    "\n",
    "    # Get the type annotation from the type_annotation\n",
    "    type_annotation = prepare_type_annotation(type_annotation)\n",
    "\n",
    "    # Map the type annotation to the corresponding field type\n",
    "    if is_list(type_annotation):\n",
    "        return \"list\"\n",
    "    elif is_dict(type_annotation):\n",
    "        return \"object\"\n",
    "    elif type_annotation == bool:\n",
    "        return \"bool\"\n",
    "    elif type_annotation == date:\n",
    "        return \"date\"\n",
    "    elif type_annotation == float:\n",
    "        return \"float\"\n",
    "    elif type_annotation == int:\n",
    "        return \"integer\"\n",
    "    elif type_annotation == str:\n",
    "        return \"string\"\n",
    "    elif type_annotation == time:\n",
    "        return \"time\"\n",
    "    elif type_annotation == HttpUrl:\n",
    "        return \"url\"\n",
    "    else:\n",
    "        raise ValueError(f\"Unsupported type: {type_annotation}\")\n",
    "\n",
    "\n",
    "def add_validators_to_xml_element(field_info: ModelField, element: Element) -> Element:\n",
    "    \"\"\"Extract validators from a pydantic ModelField and add to XML element\n",
    "\n",
    "    Args:\n",
    "        field_info: The field info to extract validators from\n",
    "        element: The XML element to add the validators to\n",
    "\n",
    "    Returns:\n",
    "        The XML element with the validators added\n",
    "    \"\"\"\n",
    "\n",
    "    if (\n",
    "        isinstance(field_info, ModelField)\n",
    "        and hasattr(field_info.field_info, \"gd_validators\")\n",
    "        and field_info.field_info.gd_validators is not None\n",
    "    ):\n",
    "        format_prompt = []\n",
    "        on_fails = {}\n",
    "        for validator in field_info.field_info.gd_validators:\n",
    "            validator_prompt = validator\n",
    "            if not isinstance(validator, str):\n",
    "                # `validator`` is of type gd.Validator, use the to_xml_attrib method\n",
    "                validator_prompt = validator.to_xml_attrib()\n",
    "                # Set the on-fail attribute based on the on_fail value\n",
    "                on_fail = validator.on_fail.__name__ if validator.on_fail else \"noop\"\n",
    "                on_fails[validator.rail_alias] = on_fail\n",
    "            format_prompt.append(validator_prompt)\n",
    "\n",
    "        if len(format_prompt) > 0:\n",
    "            format_prompt = \"; \".join(format_prompt)\n",
    "            element.set(\"format\", format_prompt)\n",
    "            for rail_alias, on_fail in on_fails.items():\n",
    "                element.set(\"on-fail-\" + rail_alias, on_fail)\n",
    "\n",
    "    return element\n",
    "\n",
    "\n",
    "def create_xml_element_for_field(\n",
    "    field: Union[ModelField, Type, type],\n",
    "    field_name: Optional[str] = None,\n",
    ") -> Element:\n",
    "    \"\"\"Create an XML element corresponding to a field.\n",
    "\n",
    "    Args:\n",
    "        field_info: Field's type. This could be a Pydantic ModelField or a type.\n",
    "        field_name: Field's name. For some fields (e.g. list), this is not required.\n",
    "\n",
    "    Returns:\n",
    "        The XML element corresponding to the field.\n",
    "    \"\"\"\n",
    "\n",
    "    # Create the element based on the field type\n",
    "    field_type = type_annotation_to_string(field)\n",
    "    element = E(field_type)\n",
    "\n",
    "    # Add name attribute\n",
    "    if field_name:\n",
    "        element.set(\"name\", field_name)\n",
    "\n",
    "    # Add validators\n",
    "    element = add_validators_to_xml_element(field, element)\n",
    "\n",
    "    # Add description attribute\n",
    "    if isinstance(field, ModelField):\n",
    "        if field.field_info.description is not None:\n",
    "            element.set(\"description\", field.field_info.description)\n",
    "\n",
    "    # Create XML elements for the field's children\n",
    "    if field_type in [\"list\", \"object\"]:\n",
    "        type_annotation = prepare_type_annotation(field)\n",
    "\n",
    "        if is_list(type_annotation):\n",
    "            inner_type = get_args(type_annotation)\n",
    "            if len(inner_type) == 0:\n",
    "                # If the list is empty, we cannot infer the type of the elements\n",
    "                pass\n",
    "\n",
    "            inner_type = inner_type[0]\n",
    "            if is_pydantic_base_model(inner_type):\n",
    "                object_element = create_xml_element_for_base_model(inner_type)\n",
    "                element.append(object_element)\n",
    "            else:\n",
    "                inner_element = create_xml_element_for_field(inner_type)\n",
    "                element.append(inner_element)\n",
    "\n",
    "        elif is_dict(type_annotation):\n",
    "            if is_pydantic_base_model(type_annotation):\n",
    "                element = create_xml_element_for_base_model(type_annotation, element)\n",
    "            else:\n",
    "                dict_args = get_args(type_annotation)\n",
    "                if len(dict_args) == 0:\n",
    "                    # If the dict is empty, we cannot infer the type of the elements\n",
    "                    pass\n",
    "\n",
    "                key_type, val_type = dict_args\n",
    "                assert key_type == str, \"Only string keys are supported for dicts\"\n",
    "                inner_element = create_xml_element_for_field(val_type)\n",
    "                element.append(inner_element)\n",
    "        else:\n",
    "            raise ValueError(f\"Unsupported type: {type_annotation}\")\n",
    "\n",
    "    return element\n",
    "\n",
    "\n",
    "def create_xml_element_for_base_model(\n",
    "    model: BaseModel, element: Optional[Element] = None\n",
    ") -> Element:\n",
    "    \"\"\"Create an XML element for a Pydantic BaseModel.\n",
    "\n",
    "    This function does the following:\n",
    "        1. Iterates through fields of the model and creates XML elements for each field\n",
    "        2. If a field is a Pydantic BaseModel, it creates a nested XML element\n",
    "        3. If the BaseModel contains a field with a `when` attribute, it creates\n",
    "           `Choice` and `Case` elements for the field.\n",
    "\n",
    "    Args:\n",
    "        model: The Pydantic BaseModel to create an XML element for\n",
    "        element: The XML element to add the fields to. If None, a new XML element\n",
    "\n",
    "    Returns:\n",
    "        The XML element with the fields added\n",
    "    \"\"\"\n",
    "\n",
    "    if element is None:\n",
    "        element = E(\"object\")\n",
    "\n",
    "    # Identify fields with `when` attribute\n",
    "    choice_elements = defaultdict(list)\n",
    "    case_elements = set()\n",
    "    for field_name, field in model.__fields__.items():\n",
    "        if hasattr(field.field_info, \"when\") and field.field_info.when:\n",
    "            choice_elements[field.field_info.when].append((field_name, field))\n",
    "            case_elements.add(field_name)\n",
    "\n",
    "    # Add fields to the XML element, except for fields with `when` attribute\n",
    "    for field_name, field in model.__fields__.items():\n",
    "        if field_name in choice_elements or field_name in case_elements:\n",
    "            continue\n",
    "        field_element = create_xml_element_for_field(field, field_name)\n",
    "        element.append(field_element)\n",
    "\n",
    "    # Add `Choice` and `Case` elements for fields with `when` attribute\n",
    "    for when, discriminator_fields in choice_elements.items():\n",
    "        choice_element = E(\"choice\", name=when)\n",
    "        # TODO(shreya): DONT MERGE WTHOUT SOLVING THIS: How do you set this via SDK?\n",
    "        choice_element.set(\"on-fail-choice\", \"exception\")\n",
    "\n",
    "        for field_name, field in discriminator_fields:\n",
    "            case_element = E(\"case\", name=field_name)\n",
    "            field_element = create_xml_element_for_field(field, field_name)\n",
    "            case_element.append(field_element)\n",
    "            choice_element.append(case_element)\n",
    "\n",
    "        element.append(choice_element)\n",
    "\n",
    "    return element"
   ]
  },
  {
   "cell_type": "code",
   "execution_count": 6,
   "metadata": {},
   "outputs": [],
   "source": [
    "from guardrails.validators import ValidChoices\n",
    "\n",
    "\n",
    "class FlightDetails(BaseModel):\n",
    "    flight_direction: str = Field(\n",
    "        validators=ValidChoices(\n",
    "            choices=[\"north\", \"south\", \"east\", \"west\"], on_fail=\"exception\"\n",
    "        )\n",
    "    )\n",
    "    flight_speed: int = Field(\n",
    "        validators=ValidChoices(choices=[1, 2, 3, 4], on_fail=\"exception\")\n",
    "    )\n",
    "\n",
    "\n",
    "class Action(BaseModel):\n",
    "    action: str = Field(validators=ValidChoices(choices=[\"fight\", \"flight\"]))\n",
    "    fight: Optional[str] = Field(\n",
    "        validators=ValidChoices(choices=[\"punch\", \"kick\"], on_fail=\"exception\"),\n",
    "        when=\"action\",\n",
    "    )\n",
    "    flight: Optional[FlightDetails] = Field(when=\"action\")"
   ]
  },
  {
   "cell_type": "code",
   "execution_count": 29,
   "metadata": {},
   "outputs": [],
   "source": [
    "output = base_model_iterator(Action)"
   ]
  },
  {
   "cell_type": "code",
   "execution_count": 43,
   "metadata": {},
   "outputs": [],
   "source": [
    "output = create_xml_element_for_base_model(ContractDetailsReask)"
   ]
  },
  {
   "cell_type": "code",
   "execution_count": 41,
   "metadata": {},
   "outputs": [
    {
     "name": "stdout",
     "output_type": "stream",
     "text": [
      "<object>\n",
      "  <list name=\"interest_rates\" description=\"What are the interest rates offered by the bank on savings and checking accounts, loans, and credit products?\">\n",
      "    <string/>\n",
      "  </list>\n",
      "</object>\n",
      "\n"
     ]
    }
   ],
   "source": [
    "print(tostring(\n",
    "    output,\n",
    "    encoding=\"unicode\",\n",
    "    method=\"xml\",\n",
    "    pretty_print=True,\n",
    "))"
   ]
  },
  {
   "cell_type": "code",
   "execution_count": 56,
   "metadata": {},
   "outputs": [],
   "source": [
    "from decimal import Decimal\n",
    "\n",
    "from pydantic import (\n",
    "    BaseModel,\n",
    "    NegativeFloat,\n",
    "    NegativeInt,\n",
    "    PositiveFloat,\n",
    "    PositiveInt,\n",
    "    NonNegativeFloat,\n",
    "    NonNegativeInt,\n",
    "    NonPositiveFloat,\n",
    "    NonPositiveInt,\n",
    "    conbytes,\n",
    "    condecimal,\n",
    "    confloat,\n",
    "    conint,\n",
    "    conlist,\n",
    "    conset,\n",
    "    constr,\n",
    "    Field,\n",
    ")\n",
    "\n",
    "\n",
    "class Model(BaseModel):\n",
    "    upper_bytes: conbytes(to_upper=True)\n",
    "    lower_bytes: conbytes(to_lower=True)\n",
    "    short_bytes: conbytes(min_length=2, max_length=10)\n",
    "    strip_bytes: conbytes(strip_whitespace=True)\n",
    "\n",
    "    upper_str: constr(to_upper=True)\n",
    "    lower_str: constr(to_lower=True)\n",
    "    short_str: constr(min_length=2, max_length=10)\n",
    "    regex_str: constr(regex=r'^apple (pie|tart|sandwich)$')\n",
    "    strip_str: constr(strip_whitespace=True)\n",
    "\n",
    "    big_int: conint(gt=1000, lt=1024)\n",
    "    mod_int: conint(multiple_of=5)\n",
    "    pos_int: PositiveInt\n",
    "    neg_int: NegativeInt\n",
    "    non_neg_int: NonNegativeInt\n",
    "    non_pos_int: NonPositiveInt\n",
    "\n",
    "    big_float: confloat(gt=1000, lt=1024)\n",
    "    unit_interval: confloat(ge=0, le=1)\n",
    "    mod_float: confloat(multiple_of=0.5)\n",
    "    pos_float: PositiveFloat\n",
    "    neg_float: NegativeFloat\n",
    "    non_neg_float: NonNegativeFloat\n",
    "    non_pos_float: NonPositiveFloat\n",
    "\n",
    "    short_list: conlist(int, min_items=1, max_items=4)\n",
    "    short_set: conset(int, min_items=1, max_items=4)\n",
    "\n",
    "    decimal_positive: condecimal(gt=0)\n",
    "    decimal_negative: condecimal(lt=0)\n",
    "    decimal_max_digits_and_places: condecimal(max_digits=2, decimal_places=2)\n",
    "    mod_decimal: condecimal(multiple_of=Decimal('0.25'))\n",
    "\n",
    "    bigger_int: int = Field(..., gt=10000, random_other_thing=123)"
   ]
  },
  {
   "cell_type": "code",
   "execution_count": 57,
   "metadata": {},
   "outputs": [
    {
     "data": {
      "text/plain": [
       "['__abs__',\n",
       " '__add__',\n",
       " '__and__',\n",
       " '__bool__',\n",
       " '__ceil__',\n",
       " '__class__',\n",
       " '__delattr__',\n",
       " '__dict__',\n",
       " '__dir__',\n",
       " '__divmod__',\n",
       " '__doc__',\n",
       " '__eq__',\n",
       " '__float__',\n",
       " '__floor__',\n",
       " '__floordiv__',\n",
       " '__format__',\n",
       " '__ge__',\n",
       " '__get_validators__',\n",
       " '__getattribute__',\n",
       " '__getnewargs__',\n",
       " '__gt__',\n",
       " '__hash__',\n",
       " '__index__',\n",
       " '__init__',\n",
       " '__init_subclass__',\n",
       " '__int__',\n",
       " '__invert__',\n",
       " '__le__',\n",
       " '__lshift__',\n",
       " '__lt__',\n",
       " '__mod__',\n",
       " '__modify_schema__',\n",
       " '__module__',\n",
       " '__mul__',\n",
       " '__ne__',\n",
       " '__neg__',\n",
       " '__new__',\n",
       " '__or__',\n",
       " '__pos__',\n",
       " '__pow__',\n",
       " '__radd__',\n",
       " '__rand__',\n",
       " '__rdivmod__',\n",
       " '__reduce__',\n",
       " '__reduce_ex__',\n",
       " '__repr__',\n",
       " '__rfloordiv__',\n",
       " '__rlshift__',\n",
       " '__rmod__',\n",
       " '__rmul__',\n",
       " '__ror__',\n",
       " '__round__',\n",
       " '__rpow__',\n",
       " '__rrshift__',\n",
       " '__rshift__',\n",
       " '__rsub__',\n",
       " '__rtruediv__',\n",
       " '__rxor__',\n",
       " '__setattr__',\n",
       " '__sizeof__',\n",
       " '__str__',\n",
       " '__sub__',\n",
       " '__subclasshook__',\n",
       " '__truediv__',\n",
       " '__trunc__',\n",
       " '__xor__',\n",
       " 'as_integer_ratio',\n",
       " 'bit_length',\n",
       " 'conjugate',\n",
       " 'denominator',\n",
       " 'from_bytes',\n",
       " 'ge',\n",
       " 'gt',\n",
       " 'imag',\n",
       " 'le',\n",
       " 'lt',\n",
       " 'multiple_of',\n",
       " 'numerator',\n",
       " 'real',\n",
       " 'strict',\n",
       " 'to_bytes']"
      ]
     },
     "execution_count": 57,
     "metadata": {},
     "output_type": "execute_result"
    }
   ],
   "source": [
    "dir(Model.__fields__[\"mod_int\"].annotation)"
   ]
  },
  {
   "cell_type": "code",
   "execution_count": 63,
   "metadata": {},
   "outputs": [
    {
     "data": {
      "text/plain": [
       "123"
      ]
     },
     "execution_count": 63,
     "metadata": {},
     "output_type": "execute_result"
    }
   ],
   "source": [
    "Model.__fields__[\"bigger_int\"].field_info.extra['random_other_thing']"
   ]
  },
  {
   "cell_type": "code",
   "execution_count": 61,
   "metadata": {},
   "outputs": [],
   "source": [
    "from pydantic import validator\n",
    "\n",
    "\n",
    "class RandomBaseModel(BaseModel):\n",
    "    random_field: str = Field(..., validators=[ValidChoices(choices=[\"a\", \"b\", \"c\"])])\n",
    "    random_field2: str = Field(..., description=\"This is a random field\")\n",
    "\n",
    "    @validator(\"random_field\")\n",
    "    def random_field_validator(cls, v):\n",
    "        # Check if the field is a string that is not \"a\"\n",
    "        if isinstance(v, str) and v == \"a\":\n",
    "            raise ValueError(\"Field must not be 'a'\")\n",
    "\n",
    "    @validator(\"random_field2\")\n",
    "    def random_field2_validator(cls, v):\n",
    "        # Check if field is an integer that is a multiple of 5\n",
    "        if isinstance(v, int) and v % 5 == 0:\n",
    "            raise ValueError(\"Field must be an integer that is not a multiple of 5\")\n",
    "        return v\n",
    "    \n",
    "    # Create a validator for both random_field and random_field2 to check if they are the same\n",
    "    @validator(\"random_field\", \"random_field2\")\n",
    "    def random_field_and_random_field2_validator(cls, v, values):\n",
    "        # Check if both fields are the same\n",
    "        if values[\"random_field\"] != values[\"random_field2\"]:\n",
    "            raise ValueError(\"Fields must be the same\")\n",
    "        return v"
   ]
  },
  {
   "cell_type": "code",
   "execution_count": 63,
   "metadata": {},
   "outputs": [
    {
     "name": "stdout",
     "output_type": "stream",
     "text": [
      "<cyfunction RandomBaseModel.random_field_validator at 0x12bc986c0>\n",
      "<cyfunction RandomBaseModel.random_field_and_random_field2_validator at 0x12bc98860>\n"
     ]
    }
   ],
   "source": [
    "errors = []\n",
    "for validator in RandomBaseModel.__fields__[\"random_field\"].post_validators:\n",
    "    print(validator)\n",
    "    \n",
    "    # input_data = validator(RandomBaseModel, {\"random_field\": \"a\", \"random_field2\": 10})"
   ]
  },
  {
   "cell_type": "code",
   "execution_count": 33,
   "metadata": {},
   "outputs": [],
   "source": [
    "import inspect"
   ]
  },
  {
   "cell_type": "code",
   "execution_count": 94,
   "metadata": {},
   "outputs": [],
   "source": [
    "def extract_pydantic_validators(model: BaseModel):\n",
    "    validators = defaultdict(list)\n",
    "\n",
    "    for field in model.__fields__.values():\n",
    "        if field.pre_validators:\n",
    "            for val in field.pre_validators:\n",
    "                fn = getattr(model, val.func_name)\n",
    "                validators[fn].append(field.name)\n",
    "\n",
    "    for field in model.__fields__.values():\n",
    "        if field.post_validators:\n",
    "            for val in field.post_validators:\n",
    "                fn = getattr(model, val.func_name)\n",
    "                validators[fn].append(field.name)\n",
    "\n",
    "    # TODO(shreya): Before merging handle root validators\n",
    "\n",
    "    return dict(validators)"
   ]
  },
  {
   "cell_type": "code",
   "execution_count": 96,
   "metadata": {},
   "outputs": [
    {
     "ename": "AttributeError",
     "evalue": "'function' object has no attribute 'func_name'",
     "output_type": "error",
     "traceback": [
      "\u001b[0;31m---------------------------------------------------------------------------\u001b[0m",
      "\u001b[0;31mAttributeError\u001b[0m                            Traceback (most recent call last)",
      "Cell \u001b[0;32mIn[96], line 2\u001b[0m\n\u001b[1;32m      1\u001b[0m \u001b[39mfor\u001b[39;00m fn, args \u001b[39min\u001b[39;00m extract_pydantic_validators(RandomBaseModel)\u001b[39m.\u001b[39mitems():\n\u001b[0;32m----> 2\u001b[0m     \u001b[39mprint\u001b[39m(fn\u001b[39m.\u001b[39;49mfunc_name)\n",
      "\u001b[0;31mAttributeError\u001b[0m: 'function' object has no attribute 'func_name'"
     ]
    }
   ],
   "source": [
    "for fn, args in extract_pydantic_validators(RandomBaseModel).items():\n",
    "    print(fn.func_name)"
   ]
  },
  {
   "cell_type": "code",
   "execution_count": 101,
   "metadata": {},
   "outputs": [
    {
     "data": {
      "text/plain": [
       "'random_field_validator'"
      ]
     },
     "execution_count": 101,
     "metadata": {},
     "output_type": "execute_result"
    }
   ],
   "source": [
    "fn.__func__.__name__"
   ]
  },
  {
   "cell_type": "code",
   "execution_count": 40,
   "metadata": {},
   "outputs": [],
   "source": [
    "pydantic_validator = RandomBaseModel.__fields__[\"random_field\"].post_validators[0]\n",
    "\n",
    "# Call the validator with the class and the value\n",
    "input_data = pydantic_validator(RandomBaseModel, {\"random_field\": \"a\", \"random_field2\": 10}, \"random_field\", \"a\", None)"
   ]
  },
  {
   "cell_type": "code",
   "execution_count": 76,
   "metadata": {},
   "outputs": [
    {
     "data": {
      "text/plain": [
       "'random_field_validator'"
      ]
     },
     "execution_count": 76,
     "metadata": {},
     "output_type": "execute_result"
    }
   ],
   "source": [
    "pydantic_validator.func_name"
   ]
  },
  {
   "cell_type": "code",
   "execution_count": 68,
   "metadata": {},
   "outputs": [
    {
     "ename": "ValueError",
     "evalue": "Field must be an integer that is not a multiple of 5",
     "output_type": "error",
     "traceback": [
      "\u001b[0;31m---------------------------------------------------------------------------\u001b[0m",
      "\u001b[0;31mValueError\u001b[0m                                Traceback (most recent call last)",
      "Cell \u001b[0;32mIn[68], line 1\u001b[0m\n\u001b[0;32m----> 1\u001b[0m \u001b[39mgetattr\u001b[39;49m(RandomBaseModel, \u001b[39m\"\u001b[39;49m\u001b[39mrandom_field2_validator\u001b[39;49m\u001b[39m\"\u001b[39;49m)(\u001b[39m10\u001b[39;49m)\n",
      "Cell \u001b[0;32mIn[61], line 18\u001b[0m, in \u001b[0;36mRandomBaseModel.random_field2_validator\u001b[0;34m(cls, v)\u001b[0m\n\u001b[1;32m     14\u001b[0m \u001b[39m@validator\u001b[39m(\u001b[39m\"\u001b[39m\u001b[39mrandom_field2\u001b[39m\u001b[39m\"\u001b[39m)\n\u001b[1;32m     15\u001b[0m \u001b[39mdef\u001b[39;00m \u001b[39mrandom_field2_validator\u001b[39m(\u001b[39mcls\u001b[39m, v):\n\u001b[1;32m     16\u001b[0m     \u001b[39m# Check if field is an integer that is a multiple of 5\u001b[39;00m\n\u001b[1;32m     17\u001b[0m     \u001b[39mif\u001b[39;00m \u001b[39misinstance\u001b[39m(v, \u001b[39mint\u001b[39m) \u001b[39mand\u001b[39;00m v \u001b[39m%\u001b[39m \u001b[39m5\u001b[39m \u001b[39m==\u001b[39m \u001b[39m0\u001b[39m:\n\u001b[0;32m---> 18\u001b[0m         \u001b[39mraise\u001b[39;00m \u001b[39mValueError\u001b[39;00m(\u001b[39m\"\u001b[39m\u001b[39mField must be an integer that is not a multiple of 5\u001b[39m\u001b[39m\"\u001b[39m)\n\u001b[1;32m     19\u001b[0m     \u001b[39mreturn\u001b[39;00m v\n",
      "\u001b[0;31mValueError\u001b[0m: Field must be an integer that is not a multiple of 5"
     ]
    }
   ],
   "source": [
    "getattr(RandomBaseModel, \"random_field2_validator\")(10)"
   ]
  },
  {
   "cell_type": "code",
   "execution_count": null,
   "metadata": {},
   "outputs": [],
   "source": []
  },
  {
   "cell_type": "code",
   "execution_count": 60,
   "metadata": {},
   "outputs": [
    {
     "data": {
      "text/plain": [
       "['__call__',\n",
       " '__class__',\n",
       " '__delattr__',\n",
       " '__dir__',\n",
       " '__doc__',\n",
       " '__eq__',\n",
       " '__format__',\n",
       " '__func__',\n",
       " '__ge__',\n",
       " '__get__',\n",
       " '__getattribute__',\n",
       " '__gt__',\n",
       " '__hash__',\n",
       " '__init__',\n",
       " '__init_subclass__',\n",
       " '__le__',\n",
       " '__lt__',\n",
       " '__ne__',\n",
       " '__new__',\n",
       " '__reduce__',\n",
       " '__reduce_ex__',\n",
       " '__repr__',\n",
       " '__self__',\n",
       " '__setattr__',\n",
       " '__sizeof__',\n",
       " '__str__',\n",
       " '__subclasshook__']"
      ]
     },
     "execution_count": 60,
     "metadata": {},
     "output_type": "execute_result"
    }
   ],
   "source": [
    "dir(getattr(RandomBaseModel, \"random_field_validator\"))"
   ]
  },
  {
   "cell_type": "code",
   "execution_count": 53,
   "metadata": {},
   "outputs": [
    {
     "ename": "ValueError",
     "evalue": "Field must not be 'a'",
     "output_type": "error",
     "traceback": [
      "\u001b[0;31m---------------------------------------------------------------------------\u001b[0m",
      "\u001b[0;31mValueError\u001b[0m                                Traceback (most recent call last)",
      "Cell \u001b[0;32mIn[53], line 1\u001b[0m\n\u001b[0;32m----> 1\u001b[0m RandomBaseModel\u001b[39m.\u001b[39;49mrandom_field_validator(\u001b[39m\"\u001b[39;49m\u001b[39ma\u001b[39;49m\u001b[39m\"\u001b[39;49m)\n",
      "Cell \u001b[0;32mIn[15], line 12\u001b[0m, in \u001b[0;36mRandomBaseModel.random_field_validator\u001b[0;34m(cls, v)\u001b[0m\n\u001b[1;32m      8\u001b[0m \u001b[39m@validator\u001b[39m(\u001b[39m\"\u001b[39m\u001b[39mrandom_field\u001b[39m\u001b[39m\"\u001b[39m)\n\u001b[1;32m      9\u001b[0m \u001b[39mdef\u001b[39;00m \u001b[39mrandom_field_validator\u001b[39m(\u001b[39mcls\u001b[39m, v):\n\u001b[1;32m     10\u001b[0m     \u001b[39m# Check if the field is a string that is not \"a\"\u001b[39;00m\n\u001b[1;32m     11\u001b[0m     \u001b[39mif\u001b[39;00m \u001b[39misinstance\u001b[39m(v, \u001b[39mstr\u001b[39m) \u001b[39mand\u001b[39;00m v \u001b[39m==\u001b[39m \u001b[39m\"\u001b[39m\u001b[39ma\u001b[39m\u001b[39m\"\u001b[39m:\n\u001b[0;32m---> 12\u001b[0m         \u001b[39mraise\u001b[39;00m \u001b[39mValueError\u001b[39;00m(\u001b[39m\"\u001b[39m\u001b[39mField must not be \u001b[39m\u001b[39m'\u001b[39m\u001b[39ma\u001b[39m\u001b[39m'\u001b[39m\u001b[39m\"\u001b[39m)\n",
      "\u001b[0;31mValueError\u001b[0m: Field must not be 'a'"
     ]
    }
   ],
   "source": [
    "RandomBaseModel.random_field_validator(\"a\")"
   ]
  },
  {
   "cell_type": "code",
   "execution_count": 47,
   "metadata": {},
   "outputs": [],
   "source": [
    "# print(inspect.getsource(pydantic_validator))\n",
    "\n",
    "# Call the validator with the class and the value\n",
    "pydantic_validator(RandomBaseModel, {\"random_field\": \"a\", \"random_field2\": 10}, \"dsf;jhsF\", \"a\", None)"
   ]
  },
  {
   "cell_type": "code",
   "execution_count": 48,
   "metadata": {},
   "outputs": [],
   "source": [
    "input_data"
   ]
  },
  {
   "cell_type": "code",
   "execution_count": 35,
   "metadata": {},
   "outputs": [
    {
     "name": "stdout",
     "output_type": "stream",
     "text": [
      "(cls, v)\n"
     ]
    }
   ],
   "source": [
    "print(inspect.signature(RandomBaseModel.__fields__[\"random_field\"].post_validators[0]))"
   ]
  },
  {
   "cell_type": "code",
   "execution_count": 17,
   "metadata": {},
   "outputs": [
    {
     "data": {
      "text/plain": [
       "RandomBaseModel(random_field=None, random_field2='9')"
      ]
     },
     "execution_count": 17,
     "metadata": {},
     "output_type": "execute_result"
    }
   ],
   "source": [
    "RandomBaseModel(random_field=\"b\", random_field2=9)"
   ]
  },
  {
   "cell_type": "code",
   "execution_count": 14,
   "metadata": {},
   "outputs": [
    {
     "data": {
      "text/plain": [
       "[<cyfunction RandomBaseModel.random_field_validator at 0x12bc981e0>]"
      ]
     },
     "execution_count": 14,
     "metadata": {},
     "output_type": "execute_result"
    }
   ],
   "source": [
    "RandomBaseModel.__fields__[\"random_field\"].post_validators"
   ]
  },
  {
   "cell_type": "code",
   "execution_count": 70,
   "metadata": {},
   "outputs": [
    {
     "data": {
      "text/plain": [
       "{}"
      ]
     },
     "execution_count": 70,
     "metadata": {},
     "output_type": "execute_result"
    }
   ],
   "source": [
    "RandomBaseModel.__fields__[\"random_field2\"].field_info.extra"
   ]
  },
  {
   "cell_type": "code",
   "execution_count": 71,
   "metadata": {},
   "outputs": [
    {
     "data": {
      "text/plain": [
       "{'validators': [<guardrails.validators.ValidChoices at 0x136b6ea60>]}"
      ]
     },
     "execution_count": 71,
     "metadata": {},
     "output_type": "execute_result"
    }
   ],
   "source": [
    "RandomBaseModel.__fields__[\"random_field\"].field_info.extra['validators']"
   ]
  },
  {
   "cell_type": "code",
   "execution_count": 7,
   "metadata": {},
   "outputs": [],
   "source": [
    "x = ValidChoices(choices=[\"box_office\", \"streaming\"])"
   ]
  },
  {
   "cell_type": "code",
   "execution_count": 8,
   "metadata": {},
   "outputs": [],
   "source": [
    "x(None, \"box_office\", None)"
   ]
  },
  {
   "attachments": {},
   "cell_type": "markdown",
   "metadata": {},
   "source": [
    "# Extracting Pydantic validators"
   ]
  },
  {
   "cell_type": "code",
   "execution_count": 9,
   "metadata": {},
   "outputs": [],
   "source": [
    "# class BoxOfficeRevenue(BaseModel):\n",
    "#     gross: float\n",
    "#     opening_weekend: float\n",
    "\n",
    "#     # Field-level validation using Pydantic (not Guardrails)\n",
    "#     @validator(\"gross\")\n",
    "#     def validate_gross(cls, gross):\n",
    "#         if gross <= 0:\n",
    "#             raise ValueError(\"Gross revenue must be a positive value\")\n",
    "#         return gross\n",
    "\n",
    "# class StreamingRevenue(BaseModel):\n",
    "#     subscriptions: int\n",
    "#     subscription_fee: float\n",
    "\n",
    "# class Details(BaseModel):\n",
    "#     release_date: date\n",
    "#     duration: time\n",
    "#     budget: float\n",
    "#     is_sequel: bool = Field(default=False)\n",
    "#     website: str\n",
    "#     contact_email: str\n",
    "#     revenue_type: str\n",
    "#     box_office: Optional[BoxOfficeRevenue] = Field(when=\"revenue_type\")\n",
    "#     streaming: Optional[StreamingRevenue] = Field(when=\"revenue_type\")\n",
    "\n",
    "#     # Register guardrails validators\n",
    "#     _revenue_type_validator = add_validator(\n",
    "#         \"revenue_type\", fn=ValidChoices(choices=[\"box_office\", \"streaming\"])\n",
    "#     )\n",
    "#     _website_validator = add_validator(\n",
    "#         \"website\", fn=ValidLength(min=9, max=100, on_fail=\"reask\")\n",
    "#     )\n",
    "\n",
    "#     # Root-level validation using Pydantic (Not in Guardrails)\n",
    "#     @root_validator\n",
    "#     def validate_budget_and_gross(cls, values):\n",
    "#         budget = values.get(\"budget\")\n",
    "#         revenue_type = values.get(\"revenue_type\")\n",
    "#         box_office_revenue = values.get(\"box_office\")\n",
    "#         if revenue_type == \"box_office\" and box_office_revenue:\n",
    "#             gross = box_office_revenue.gross\n",
    "#             if budget >= gross:\n",
    "#                 raise ValueError(\"Budget must be less than gross revenue\")\n",
    "#         return values\n",
    "\n",
    "# class Movie(BaseModel):\n",
    "#     rank: int\n",
    "#     title: str\n",
    "#     details: Details\n",
    "\n",
    "from typing import List, Optional\n",
    "\n",
    "from pydantic import BaseModel, Field, root_validator, validator\n",
    "\n",
    "import guardrails as gd\n",
    "from guardrails.utils.pydantic_utils import add_validator\n",
    "from guardrails.validators import EventDetail, Validator, register_validator\n",
    "\n",
    "\n",
    "@register_validator(name=\"is-valid-director\", data_type=\"string\")\n",
    "class IsValidDirector(Validator):\n",
    "    def validate(self, key, value, schema) -> dict:\n",
    "        valid_names = [\n",
    "            \"Christopher Nolan\",\n",
    "            \"Steven Spielberg\",\n",
    "            \"Martin Scorsese\",\n",
    "            \"Quentin Tarantino\",\n",
    "            \"James Cameron\",\n",
    "        ]\n",
    "        if value not in valid_names:\n",
    "            raise EventDetail(\n",
    "                key,\n",
    "                value,\n",
    "                schema,\n",
    "                f\"Value {value} is not a valid director name. \"\n",
    "                f\"Valid choices are {valid_names}.\",\n",
    "                None,\n",
    "            )\n",
    "        return schema\n",
    "\n",
    "def validate_naming_thing(name):\n",
    "    if name == \"Christopher Nolan\":\n",
    "        raise ValueError(\"You are not allowed to choose Christopher Nolan\")\n",
    "    return name\n",
    "\n",
    "\n",
    "class Director(BaseModel):\n",
    "    name: str\n",
    "    # movies: List[Movie]\n",
    "    movies: List[str]\n",
    "\n",
    "    # Add guardrails validators\n",
    "    # _name_validator = add_validator(\"name\", fn=IsValidDirector())\n",
    "    _name_validator_2 = validator(\"name\", allow_reuse=True)(IsValidDirector(on_fail=\"exception\"))\n",
    "    _name_validator_3 = validator(\"name\", allow_reuse=True)(validate_naming_thing)\n",
    "\n",
    "    @validator(\"name\")\n",
    "    def validate_name(cls, name):\n",
    "        if name == \"Christopher Nolan\":\n",
    "            raise ValueError(\"You are not allowed to choose Christopher Nolan\")\n",
    "        return name\n",
    "\n",
    "# guard = gd.Guard.from_pydantic(\n",
    "#     output_class=Director,\n",
    "#     prompt=(\n",
    "#         \"Provide detailed information about the top 5 grossing movies from\"\n",
    "#         \" {{director}} including release date, duration, budget, whether \"\n",
    "#         \"it's a sequel, website, and contact email.\\n@complete_json_suffix_v2\"\n",
    "#     ),\n",
    "#     instructions=\"You are a helpful assistant only capable of communicating\"\n",
    "#     \" with valid JSON, and no other text.\\n\\n@json_suffix_prompt_examples\",\n",
    "# )"
   ]
  },
  {
   "attachments": {},
   "cell_type": "markdown",
   "metadata": {},
   "source": [
    "### Getting the class of a registered validator"
   ]
  },
  {
   "cell_type": "code",
   "execution_count": 195,
   "metadata": {},
   "outputs": [
    {
     "data": {
      "text/plain": [
       "'lambda12'"
      ]
     },
     "execution_count": 195,
     "metadata": {},
     "output_type": "execute_result"
    }
   ],
   "source": [
    "Director.__fields__[\"name\"].post_validators[0].__name__"
   ]
  },
  {
   "cell_type": "code",
   "execution_count": 30,
   "metadata": {},
   "outputs": [],
   "source": [
    "Director.__fields__[\"name\"].post_validators[0].__wrapped__(key=\"something\", value=\"Christopher Nolan\", schema=None)\n",
    "# Director.__fields__[\"name\"].post_validators[0].__wrapped__(key=\"something\", value=\"Greta Gerwig\", schema=None)"
   ]
  },
  {
   "cell_type": "code",
   "execution_count": 151,
   "metadata": {},
   "outputs": [
    {
     "data": {
      "text/plain": [
       "True"
      ]
     },
     "execution_count": 151,
     "metadata": {},
     "output_type": "execute_result"
    }
   ],
   "source": [
    "issubclass(type(Director.__fields__[\"name\"].post_validators[0].__wrapped__), Validator)"
   ]
  },
  {
   "attachments": {},
   "cell_type": "markdown",
   "metadata": {},
   "source": [
    "### Getting the function of a registered validator"
   ]
  },
  {
   "cell_type": "code",
   "execution_count": 159,
   "metadata": {},
   "outputs": [
    {
     "data": {
      "text/plain": [
       "'Greta Gerwig'"
      ]
     },
     "execution_count": 159,
     "metadata": {},
     "output_type": "execute_result"
    }
   ],
   "source": [
    "# Director.__fields__[\"name\"].post_validators[1].__wrapped__(\"Christopher Nolan\")\n",
    "Director.__fields__[\"name\"].post_validators[1].__wrapped__(\"Greta Gerwig\")"
   ]
  },
  {
   "cell_type": "code",
   "execution_count": 152,
   "metadata": {},
   "outputs": [
    {
     "data": {
      "text/plain": [
       "False"
      ]
     },
     "execution_count": 152,
     "metadata": {},
     "output_type": "execute_result"
    }
   ],
   "source": [
    "issubclass(type(Director.__fields__[\"name\"].post_validators[1].__wrapped__), Validator)"
   ]
  },
  {
   "cell_type": "code",
   "execution_count": 182,
   "metadata": {},
   "outputs": [
    {
     "data": {
      "text/plain": [
       "'validate_naming_thing'"
      ]
     },
     "execution_count": 182,
     "metadata": {},
     "output_type": "execute_result"
    }
   ],
   "source": [
    "Director.__fields__[\"name\"].post_validators[1].__name__"
   ]
  },
  {
   "cell_type": "code",
   "execution_count": 176,
   "metadata": {},
   "outputs": [
    {
     "data": {
      "text/plain": [
       "False"
      ]
     },
     "execution_count": 176,
     "metadata": {},
     "output_type": "execute_result"
    }
   ],
   "source": [
    "hasattr(Director, Director.__fields__[\"name\"].post_validators[1].__name__)"
   ]
  },
  {
   "attachments": {},
   "cell_type": "markdown",
   "metadata": {},
   "source": [
    "### Getting a validator registered with a decorator"
   ]
  },
  {
   "cell_type": "code",
   "execution_count": 172,
   "metadata": {},
   "outputs": [
    {
     "data": {
      "text/plain": [
       "<function __main__.Director.validate_name(cls, name)>"
      ]
     },
     "execution_count": 172,
     "metadata": {},
     "output_type": "execute_result"
    }
   ],
   "source": [
    "Director.__fields__[\"name\"].post_validators[2].__wrapped__"
   ]
  },
  {
   "cell_type": "code",
   "execution_count": 174,
   "metadata": {},
   "outputs": [
    {
     "data": {
      "text/plain": [
       "'validate_name'"
      ]
     },
     "execution_count": 174,
     "metadata": {},
     "output_type": "execute_result"
    }
   ],
   "source": [
    "Director.__fields__[\"name\"].post_validators[2].__name__"
   ]
  },
  {
   "cell_type": "code",
   "execution_count": 177,
   "metadata": {},
   "outputs": [
    {
     "data": {
      "text/plain": [
       "True"
      ]
     },
     "execution_count": 177,
     "metadata": {},
     "output_type": "execute_result"
    }
   ],
   "source": [
    "hasattr(Director, Director.__fields__[\"name\"].post_validators[2].__name__)"
   ]
  },
  {
   "cell_type": "code",
   "execution_count": 32,
   "metadata": {},
   "outputs": [],
   "source": [
    "from functools import partial\n",
    "\n",
    "\n",
    "partial_fn = partial(Director.__fields__[\"name\"].post_validators[2].__wrapped__, Director)"
   ]
  },
  {
   "cell_type": "code",
   "execution_count": 34,
   "metadata": {},
   "outputs": [
    {
     "data": {
      "text/plain": [
       "'Greta Gerwig'"
      ]
     },
     "execution_count": 34,
     "metadata": {},
     "output_type": "execute_result"
    }
   ],
   "source": [
    "partial_fn(\"Greta Gerwig\")\n",
    "# partial_fn(\"Christopher Nolan\")"
   ]
  },
  {
   "cell_type": "code",
   "execution_count": 36,
   "metadata": {},
   "outputs": [],
   "source": [
    "def validate_naming_thing(name):\n",
    "    if name == \"Christopher Nolan\":\n",
    "        raise ValueError(\"You are not allowed to choose Christopher Nolan\")\n",
    "    return name\n",
    "\n",
    "\n",
    "class SomeValidator:\n",
    "    def __init__(self, acceptable_list: List[str]):\n",
    "        self.acceptable_list = acceptable_list\n",
    "\n",
    "    def validate(self, key, value, schema) -> dict:\n",
    "        if value not in self.acceptable_list:\n",
    "            raise EventDetail(\n",
    "                key,\n",
    "                value,\n",
    "                schema,\n",
    "                f\"Value {value} is not a valid director name. \"\n",
    "                f\"Valid choices are {self.acceptable_list}.\",\n",
    "                None,\n",
    "            )\n",
    "        return schema\n",
    "\n",
    "    def __call__(self, v):\n",
    "        # if name not in self.acceptable_list:\n",
    "        #     raise ValueError(f\"Name {name} is not in acceptable list {self.acceptable_list}\")\n",
    "        # return name\n",
    "        return self.validate(\"dummy_key\", v, {\"dummy_key\": v})[\"dummy_key\"]\n",
    "\n",
    "\n",
    "class Director(BaseModel):\n",
    "    name: str\n",
    "    movies: List[str]\n",
    "\n",
    "    # Add guardrails validators\n",
    "    _name_validator = add_validator(\"name\", fn=SomeValidator(acceptable_list=[\"Christopher Nolan\", \"Greta Gerwig\"]))"
   ]
  },
  {
   "cell_type": "code",
   "execution_count": 38,
   "metadata": {},
   "outputs": [
    {
     "ename": "EventDetail",
     "evalue": "('dummy_key', 'Martin Sc', {'dummy_key': 'Martin Sc'}, \"Value Martin Sc is not a valid director name. Valid choices are ['Christopher Nolan', 'Greta Gerwig'].\", None)",
     "output_type": "error",
     "traceback": [
      "\u001b[0;31m---------------------------------------------------------------------------\u001b[0m",
      "\u001b[0;31mEventDetail\u001b[0m                               Traceback (most recent call last)",
      "Cell \u001b[0;32mIn[38], line 1\u001b[0m\n\u001b[0;32m----> 1\u001b[0m Director(name\u001b[39m=\u001b[39;49m\u001b[39m\"\u001b[39;49m\u001b[39mMartin Sc\u001b[39;49m\u001b[39m\"\u001b[39;49m, movies\u001b[39m=\u001b[39;49m[\u001b[39m\"\u001b[39;49m\u001b[39mInception\u001b[39;49m\u001b[39m\"\u001b[39;49m, \u001b[39m\"\u001b[39;49m\u001b[39mInterstellar\u001b[39;49m\u001b[39m\"\u001b[39;49m])\n",
      "File \u001b[0;32m~/mambaforge/envs/gd-base/lib/python3.9/site-packages/pydantic/main.py:339\u001b[0m, in \u001b[0;36mpydantic.main.BaseModel.__init__\u001b[0;34m()\u001b[0m\n",
      "File \u001b[0;32m~/mambaforge/envs/gd-base/lib/python3.9/site-packages/pydantic/main.py:1076\u001b[0m, in \u001b[0;36mpydantic.main.validate_model\u001b[0;34m()\u001b[0m\n",
      "File \u001b[0;32m~/mambaforge/envs/gd-base/lib/python3.9/site-packages/pydantic/fields.py:898\u001b[0m, in \u001b[0;36mpydantic.fields.ModelField.validate\u001b[0;34m()\u001b[0m\n",
      "File \u001b[0;32m~/mambaforge/envs/gd-base/lib/python3.9/site-packages/pydantic/fields.py:1151\u001b[0m, in \u001b[0;36mpydantic.fields.ModelField._apply_validators\u001b[0;34m()\u001b[0m\n",
      "File \u001b[0;32m~/mambaforge/envs/gd-base/lib/python3.9/site-packages/pydantic/class_validators.py:337\u001b[0m, in \u001b[0;36mpydantic.class_validators._generic_validator_basic.lambda13\u001b[0;34m()\u001b[0m\n",
      "Cell \u001b[0;32mIn[36], line 27\u001b[0m, in \u001b[0;36mSomeValidator.__call__\u001b[0;34m(self, v)\u001b[0m\n\u001b[1;32m     23\u001b[0m \u001b[39mdef\u001b[39;00m \u001b[39m__call__\u001b[39m(\u001b[39mself\u001b[39m, v):\n\u001b[1;32m     24\u001b[0m     \u001b[39m# if name not in self.acceptable_list:\u001b[39;00m\n\u001b[1;32m     25\u001b[0m     \u001b[39m#     raise ValueError(f\"Name {name} is not in acceptable list {self.acceptable_list}\")\u001b[39;00m\n\u001b[1;32m     26\u001b[0m     \u001b[39m# return name\u001b[39;00m\n\u001b[0;32m---> 27\u001b[0m     \u001b[39mreturn\u001b[39;00m \u001b[39mself\u001b[39;49m\u001b[39m.\u001b[39;49mvalidate(\u001b[39m\"\u001b[39;49m\u001b[39mdummy_key\u001b[39;49m\u001b[39m\"\u001b[39;49m, v, {\u001b[39m\"\u001b[39;49m\u001b[39mdummy_key\u001b[39;49m\u001b[39m\"\u001b[39;49m: v})[\u001b[39m\"\u001b[39m\u001b[39mdummy_key\u001b[39m\u001b[39m\"\u001b[39m]\n",
      "Cell \u001b[0;32mIn[36], line 13\u001b[0m, in \u001b[0;36mSomeValidator.validate\u001b[0;34m(self, key, value, schema)\u001b[0m\n\u001b[1;32m     11\u001b[0m \u001b[39mdef\u001b[39;00m \u001b[39mvalidate\u001b[39m(\u001b[39mself\u001b[39m, key, value, schema) \u001b[39m-\u001b[39m\u001b[39m>\u001b[39m \u001b[39mdict\u001b[39m:\n\u001b[1;32m     12\u001b[0m     \u001b[39mif\u001b[39;00m value \u001b[39mnot\u001b[39;00m \u001b[39min\u001b[39;00m \u001b[39mself\u001b[39m\u001b[39m.\u001b[39macceptable_list:\n\u001b[0;32m---> 13\u001b[0m         \u001b[39mraise\u001b[39;00m EventDetail(\n\u001b[1;32m     14\u001b[0m             key,\n\u001b[1;32m     15\u001b[0m             value,\n\u001b[1;32m     16\u001b[0m             schema,\n\u001b[1;32m     17\u001b[0m             \u001b[39mf\u001b[39m\u001b[39m\"\u001b[39m\u001b[39mValue \u001b[39m\u001b[39m{\u001b[39;00mvalue\u001b[39m}\u001b[39;00m\u001b[39m is not a valid director name. \u001b[39m\u001b[39m\"\u001b[39m\n\u001b[1;32m     18\u001b[0m             \u001b[39mf\u001b[39m\u001b[39m\"\u001b[39m\u001b[39mValid choices are \u001b[39m\u001b[39m{\u001b[39;00m\u001b[39mself\u001b[39m\u001b[39m.\u001b[39macceptable_list\u001b[39m}\u001b[39;00m\u001b[39m.\u001b[39m\u001b[39m\"\u001b[39m,\n\u001b[1;32m     19\u001b[0m             \u001b[39mNone\u001b[39;00m,\n\u001b[1;32m     20\u001b[0m         )\n\u001b[1;32m     21\u001b[0m     \u001b[39mreturn\u001b[39;00m schema\n",
      "\u001b[0;31mEventDetail\u001b[0m: ('dummy_key', 'Martin Sc', {'dummy_key': 'Martin Sc'}, \"Value Martin Sc is not a valid director name. Valid choices are ['Christopher Nolan', 'Greta Gerwig'].\", None)"
     ]
    }
   ],
   "source": [
    "Director(name=\"Martin Sc\", movies=[\"Inception\", \"Interstellar\"])"
   ]
  },
  {
   "cell_type": "code",
   "execution_count": 40,
   "metadata": {},
   "outputs": [],
   "source": [
    "from lxml import etree"
   ]
  },
  {
   "cell_type": "code",
   "execution_count": 41,
   "metadata": {},
   "outputs": [
    {
     "data": {
      "text/plain": [
       "False"
      ]
     },
     "execution_count": 41,
     "metadata": {},
     "output_type": "execute_result"
    }
   ],
   "source": [
    "etree.Element == etree._Element"
   ]
  },
  {
   "cell_type": "code",
   "execution_count": 45,
   "metadata": {},
   "outputs": [
    {
     "data": {
      "text/plain": [
       "<Element name at 0x11f051180>"
      ]
     },
     "execution_count": 45,
     "metadata": {},
     "output_type": "execute_result"
    }
   ],
   "source": [
    "etree.Element(\"name\")"
   ]
  },
  {
   "cell_type": "code",
   "execution_count": 43,
   "metadata": {},
   "outputs": [
    {
     "data": {
      "text/plain": [
       "lxml.etree._Element"
      ]
     },
     "execution_count": 43,
     "metadata": {},
     "output_type": "execute_result"
    }
   ],
   "source": [
    "etree._Element"
   ]
  },
  {
   "cell_type": "code",
   "execution_count": 46,
   "metadata": {},
   "outputs": [],
   "source": [
    "from lxml.builder import E"
   ]
  },
  {
   "cell_type": "code",
   "execution_count": 47,
   "metadata": {},
   "outputs": [],
   "source": [
    "el = E(\"name\")"
   ]
  },
  {
   "cell_type": "code",
   "execution_count": 49,
   "metadata": {},
   "outputs": [
    {
     "ename": "TypeError",
     "evalue": "Argument must be bytes or unicode, got 'list'",
     "output_type": "error",
     "traceback": [
      "\u001b[0;31m---------------------------------------------------------------------------\u001b[0m",
      "\u001b[0;31mTypeError\u001b[0m                                 Traceback (most recent call last)",
      "Cell \u001b[0;32mIn[49], line 1\u001b[0m\n\u001b[0;32m----> 1\u001b[0m el\u001b[39m.\u001b[39;49mset(\u001b[39m\"\u001b[39;49m\u001b[39mname\u001b[39;49m\u001b[39m\"\u001b[39;49m, [\u001b[39m\"\u001b[39;49m\u001b[39mChristopher Nolan\u001b[39;49m\u001b[39m\"\u001b[39;49m, \u001b[39m\"\u001b[39;49m\u001b[39mGreta Gerwig\u001b[39;49m\u001b[39m\"\u001b[39;49m])\n",
      "File \u001b[0;32msrc/lxml/etree.pyx:834\u001b[0m, in \u001b[0;36mlxml.etree._Element.set\u001b[0;34m()\u001b[0m\n",
      "File \u001b[0;32msrc/lxml/apihelpers.pxi:594\u001b[0m, in \u001b[0;36mlxml.etree._setAttributeValue\u001b[0;34m()\u001b[0m\n",
      "File \u001b[0;32msrc/lxml/apihelpers.pxi:1539\u001b[0m, in \u001b[0;36mlxml.etree._utf8\u001b[0;34m()\u001b[0m\n",
      "\u001b[0;31mTypeError\u001b[0m: Argument must be bytes or unicode, got 'list'"
     ]
    }
   ],
   "source": [
    "el.set(\"name\", [\"Christopher Nolan\", \"Greta Gerwig\"])"
   ]
  },
  {
   "cell_type": "code",
   "execution_count": 50,
   "metadata": {},
   "outputs": [],
   "source": [
    "import xml.etree.ElementTree as ET\n",
    "\n",
    "root = ET.Element(\"root\")\n",
    "child = ET.SubElement(root, \"child\")\n",
    "child.set(\"number\", str(42))"
   ]
  },
  {
   "cell_type": "code",
   "execution_count": 51,
   "metadata": {},
   "outputs": [],
   "source": [
    "root.set(\"name\", [\"Christopher Nolan\", \"Greta Gerwig\"])"
   ]
  },
  {
   "cell_type": "code",
   "execution_count": 57,
   "metadata": {},
   "outputs": [],
   "source": [
    "root.set(\"other_name\", LowerCase([\"Christopher Nolan\", \"Greta Gerwig\"]))"
   ]
  },
  {
   "cell_type": "code",
   "execution_count": 58,
   "metadata": {},
   "outputs": [
    {
     "data": {
      "text/plain": [
       "<guardrails.validators.LowerCase at 0x11f037dc0>"
      ]
     },
     "execution_count": 58,
     "metadata": {},
     "output_type": "execute_result"
    }
   ],
   "source": [
    "root.attrib[\"other_name\"]"
   ]
  },
  {
   "cell_type": "code",
   "execution_count": 59,
   "metadata": {},
   "outputs": [],
   "source": [
    "import xml.etree.ElementTree as ET"
   ]
  },
  {
   "cell_type": "code",
   "execution_count": 60,
   "metadata": {},
   "outputs": [
    {
     "data": {
      "text/plain": [
       "xml.etree.ElementTree.Element"
      ]
     },
     "execution_count": 60,
     "metadata": {},
     "output_type": "execute_result"
    }
   ],
   "source": [
    "type(root)"
   ]
  },
  {
   "cell_type": "code",
   "execution_count": 61,
   "metadata": {},
   "outputs": [
    {
     "ename": "TypeError",
     "evalue": "XML() got an unexpected keyword argument 'pretty_print'",
     "output_type": "error",
     "traceback": [
      "\u001b[0;31m---------------------------------------------------------------------------\u001b[0m",
      "\u001b[0;31mTypeError\u001b[0m                                 Traceback (most recent call last)",
      "Cell \u001b[0;32mIn[61], line 1\u001b[0m\n\u001b[0;32m----> 1\u001b[0m ET\u001b[39m.\u001b[39;49mfromstring(pretty_print\u001b[39m=\u001b[39;49m\u001b[39mTrue\u001b[39;49;00m)\n",
      "\u001b[0;31mTypeError\u001b[0m: XML() got an unexpected keyword argument 'pretty_print'"
     ]
    }
   ],
   "source": [
    "ET.fromstring(pretty_print=True)"
   ]
  },
  {
   "cell_type": "code",
   "execution_count": null,
   "metadata": {},
   "outputs": [],
   "source": []
  }
 ],
 "metadata": {
  "kernelspec": {
   "display_name": "gd-base",
   "language": "python",
   "name": "python3"
  },
  "language_info": {
   "codemirror_mode": {
    "name": "ipython",
    "version": 3
   },
   "file_extension": ".py",
   "mimetype": "text/x-python",
   "name": "python",
   "nbconvert_exporter": "python",
   "pygments_lexer": "ipython3",
   "version": "3.9.16"
  },
  "orig_nbformat": 4
 },
 "nbformat": 4,
 "nbformat_minor": 2
}
